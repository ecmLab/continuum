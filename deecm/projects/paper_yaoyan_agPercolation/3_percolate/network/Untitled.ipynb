{
 "cells": [
  {
   "cell_type": "code",
   "execution_count": 11,
   "metadata": {},
   "outputs": [],
   "source": [
    "import json\n",
    "from queue import PriorityQueue\n",
    "import sys"
   ]
  },
  {
   "cell_type": "code",
   "execution_count": 13,
   "metadata": {},
   "outputs": [],
   "source": [
    "input = 'adj_ncm1_lps5.json'\n",
    "output = 'mr5_net_ncm1'"
   ]
  },
  {
   "cell_type": "code",
   "execution_count": 15,
   "metadata": {},
   "outputs": [],
   "source": [
    "with open(input, 'rb') as fp:\n",
    "    data = json.load(fp)\n",
    "adj_data = data['adj']\n",
    "num_NMC = data['num_NMC']\n",
    "num_LPS = data['num_LPS']\n",
    "num_particle = data['num_particle']\n",
    "vertical_dist_data = data['vertical_dist']\n",
    "particle_rads_data = data['particle_rads']\n",
    "particle_type_data = data['type']\n",
    "SYS_thk = data['thickness']"
   ]
  },
  {
   "cell_type": "code",
   "execution_count": 16,
   "metadata": {},
   "outputs": [],
   "source": [
    "adj = {}\n",
    "# count = 0\n",
    "for key in adj_data.keys():\n",
    "    bool = False\n",
    "    value = {}\n",
    "    # if not adj_data[key].keys() and particle_type_data[key] == 'NMC':\n",
    "    #     count += 1\n",
    "    for i in adj_data[key].keys():\n",
    "        # if adj_data[key][i][2] == 'LPS':\n",
    "        #     bool = True\n",
    "        value[int(i)] = adj_data[key][i]\n",
    "    # if not bool and particle_type_data[key] == 'NMC':\n",
    "    #     count += 1\n",
    "    adj[int(key)] = value\n",
    "# print('count', count)  # number of NMC particles that have no neighbor\n",
    "# print(adj[404])  # last NMC particle has no neighbor particles!\n",
    "\n",
    "vertical_dist = {int(key): value for key, value in vertical_dist_data.items()}\n",
    "particle_rads = {int(key): value for key, value in particle_rads_data.items()}\n",
    "particle_type = {int(key): value for key, value in particle_type_data.items()}\n",
    "\n",
    "# Helper function\n",
    "\n",
    "\n",
    "def heuristic(x):\n",
    "    if x < 0 or x >= num_particle:\n",
    "        raise IndexError('Index out of bound.')\n",
    "    return vertical_dist[x]\n",
    "\n",
    "\n",
    "def path_finder(s):\n",
    "    if particle_type[s] != 'NMC':\n",
    "        raise IndexError('Only consider NMC particles!')\n",
    "\n",
    "    dist_so_far = [float('inf')] * num_particle\n",
    "    parent = [None] * num_particle\n",
    "\n",
    "    pq = PriorityQueue()\n",
    "\n",
    "    dist_so_far[s] = 0\n",
    "    source = (heuristic(s), s)\n",
    "    parent[s] = s\n",
    "\n",
    "    pq.put(source)\n",
    "    while not pq.empty():\n",
    "        _, temp = pq.get()\n",
    "        if particle_type[temp] == 'Target':\n",
    "            break\n",
    "        for v in adj[temp].keys():\n",
    "            if v == parent[temp] or particle_type[v] == 'NMC':\n",
    "                continue\n",
    "            dist = dist_so_far[temp] + adj[temp][v][0]\n",
    "            if dist < dist_so_far[v]:\n",
    "                parent[v] = temp\n",
    "                dist_so_far[v] = dist\n",
    "                pq.put((dist + heuristic(v), v))\n",
    "\n",
    "    if not parent[-1]:\n",
    "        return [], float('inf')\n",
    "\n",
    "    shortest_path = [num_particle - 1]\n",
    "    path_length = 0\n",
    "    particle_on_path = num_particle - 1\n",
    "    while True:\n",
    "        v = parent[particle_on_path]\n",
    "        if v == particle_on_path:\n",
    "            break\n",
    "        shortest_path.append(v)\n",
    "        path_length += adj[v][particle_on_path][0]\n",
    "        particle_on_path = v\n",
    "    return list(reversed(shortest_path)), path_length\n",
    "###"
   ]
  },
  {
   "cell_type": "code",
   "execution_count": 20,
   "metadata": {},
   "outputs": [],
   "source": [
    "shortest_paths = {}\n",
    "num_active_NMC = 0\n",
    "vol_NMC = 0.\n",
    "vol_active_NMC = 0.\n",
    "output1 = 'c1_net_mr5_ncm1_lps5'\n",
    "with open(output1, 'w') as fp1:\n",
    "  for s in range(num_NMC):\n",
    "    path, length = path_finder(s)\n",
    "    vol_NMC += particle_rads[s]**3\n",
    "    if path:\n",
    "        vol_active_NMC += particle_rads[s]**3\n",
    "        shortest_paths[num_active_NMC] = [length, vertical_dist[s],  particle_rads[s], path]\n",
    "        num_active_NMC += 1\n",
    "        tmp = \" \".join(str(x) for x in path[1:-1])\n",
    "        fp1.write('%s ' %(tmp))\n"
   ]
  },
  {
   "cell_type": "code",
   "execution_count": null,
   "metadata": {},
   "outputs": [],
   "source": []
  }
 ],
 "metadata": {
  "kernelspec": {
   "display_name": "Python 3 (ipykernel)",
   "language": "python",
   "name": "python3"
  },
  "language_info": {
   "codemirror_mode": {
    "name": "ipython",
    "version": 3
   },
   "file_extension": ".py",
   "mimetype": "text/x-python",
   "name": "python",
   "nbconvert_exporter": "python",
   "pygments_lexer": "ipython3",
   "version": "3.10.8"
  }
 },
 "nbformat": 4,
 "nbformat_minor": 2
}
