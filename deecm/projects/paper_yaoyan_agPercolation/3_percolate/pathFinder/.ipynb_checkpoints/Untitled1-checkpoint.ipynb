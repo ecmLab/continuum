{
 "cells": [
  {
   "cell_type": "code",
   "execution_count": 8,
   "id": "7c4cd6a0",
   "metadata": {},
   "outputs": [],
   "source": [
    "import json\n",
    "from queue import PriorityQueue\n",
    "import sys"
   ]
  },
  {
   "cell_type": "code",
   "execution_count": 9,
   "id": "1c54907b",
   "metadata": {},
   "outputs": [],
   "source": [
    "input = 'adj0.json'\n",
    "with open(input, 'rb') as fp:\n",
    "    data = json.load(fp)\n",
    "\n",
    "adj_data = data['adj']\n",
    "num_particle = data['num_Ag']\n",
    "vertical_dist_data = data['vertical_dist']\n",
    "particle_rads_data = data['particle_rads']\n",
    "particle_type_data = data['type']\n",
    "SYS_thk = data['thickness']"
   ]
  },
  {
   "cell_type": "code",
   "execution_count": 10,
   "id": "2d940296",
   "metadata": {},
   "outputs": [],
   "source": [
    "adj = {}\n",
    "# count = 0\n",
    "for key in adj_data.keys():\n",
    "    bool = False\n",
    "    value = {}\n",
    "    # if not adj_data[key].keys() and particle_type_data[key] == 'NMC':\n",
    "    #     count += 1\n",
    "    for i in adj_data[key].keys():\n",
    "        # if adj_data[key][i][2] == 'LPS':\n",
    "        #     bool = True\n",
    "        value[int(i)] = adj_data[key][i]\n",
    "    # if not bool and particle_type_data[key] == 'NMC':\n",
    "    #     count += 1\n",
    "    adj[int(key)] = value\n",
    "# print('count', count)  # number of NMC particles that have no neighbor\n",
    "# print(adj[404])  # last NMC particle has no neighbor particles!\n",
    "\n",
    "vertical_dist = {int(key): value for key, value in vertical_dist_data.items()}\n",
    "particle_rads = {int(key): value for key, value in particle_rads_data.items()}\n",
    "particle_type = {int(key): value for key, value in particle_type_data.items()}"
   ]
  },
  {
   "cell_type": "code",
   "execution_count": 11,
   "id": "52cba934",
   "metadata": {},
   "outputs": [],
   "source": [
    "# Helper function\n",
    "def heuristic(x):\n",
    "    if x < 0 or x >= num_particle:\n",
    "        raise IndexError('Index out of bound.')\n",
    "    return vertical_dist[x]\n",
    "\n",
    "def path_finder(s):\n",
    "    if particle_type[s] != 'Ag':\n",
    "        raise IndexError('Only consider Ag particles!')\n",
    "\n",
    "    dist_so_far = [float('inf')] * num_particle\n",
    "    parent = [None] * num_particle\n",
    "\n",
    "    pq = PriorityQueue()\n",
    "\n",
    "    dist_so_far[s] = 0\n",
    "    source = (heuristic(s), s)\n",
    "    parent[s] = s\n",
    "\n",
    "    pq.put(source)\n",
    "    while not pq.empty():\n",
    "        _, temp = pq.get()\n",
    "        if particle_type[temp] == 'Target':\n",
    "            break\n",
    "        for v in adj[temp].keys():\n",
    "            if v == parent[temp] or particle_type[v] == 'Ag':\n",
    "                continue\n",
    "            dist = dist_so_far[temp] + adj[temp][v][0]\n",
    "            if dist < dist_so_far[v]:\n",
    "                parent[v] = temp\n",
    "                dist_so_far[v] = dist\n",
    "                pq.put((dist + heuristic(v), v))\n",
    "\n",
    "    if not parent[-1]:\n",
    "        return [], float('inf')\n",
    "\n",
    "    shortest_path = [num_particle - 1]\n",
    "    path_length = 0\n",
    "    particle_on_path = num_particle - 1\n",
    "    while True:\n",
    "        v = parent[particle_on_path]\n",
    "        if v == particle_on_path:\n",
    "            break\n",
    "        shortest_path.append(v)\n",
    "        path_length += adj[v][particle_on_path][0]\n",
    "        particle_on_path = v\n",
    "    return list(reversed(shortest_path)), path_length\n",
    "###"
   ]
  },
  {
   "cell_type": "code",
   "execution_count": 14,
   "id": "3ab54055",
   "metadata": {},
   "outputs": [],
   "source": [
    "shortest_paths = {}\n",
    "num_active_Ag = 0\n",
    "vol_Ag = 0.\n",
    "vol_active_Ag = 0.\n",
    "for s in range(num_particle-1):\n",
    "    path, length = path_finder(s)\n",
    "    vol_Ag += particle_rads[s]**3\n",
    "    if path:\n",
    "        vol_active_Ag += particle_rads[s]**3\n",
    "        shortest_paths[num_active_Ag] = [length, vertical_dist[s],  particle_rads[s], path]\n",
    "        num_active_Ag += 1"
   ]
  },
  {
   "cell_type": "code",
   "execution_count": 15,
   "id": "3baef2b3",
   "metadata": {},
   "outputs": [
    {
     "name": "stdout",
     "output_type": "stream",
     "text": [
      "21\n"
     ]
    }
   ],
   "source": [
    "print(num_active_Ag)"
   ]
  },
  {
   "cell_type": "code",
   "execution_count": 17,
   "id": "9382eed4",
   "metadata": {},
   "outputs": [
    {
     "name": "stdout",
     "output_type": "stream",
     "text": [
      "{0: [0.397703034095, 0.397703034095, 0.4002, [68, 1493]], 1: [0.398944030907, 0.398944030907, 0.4002, [81, 1493]], 2: [0.397202947686, 0.397202947686, 0.4002, [102, 1493]], 3: [0.398896767921, 0.398896767921, 0.4002, [185, 1493]], 4: [0.399991958368, 0.399991958368, 0.4002, [193, 1493]], 5: [0.398846501208, 0.398846501208, 0.4002, [365, 1493]], 6: [0.399143862796, 0.399143862796, 0.4002, [482, 1493]], 7: [0.397803942168, 0.397803942168, 0.4002, [523, 1493]], 8: [0.398871567186, 0.398871567186, 0.4002, [581, 1493]], 9: [0.399169691862, 0.399169691862, 0.4002, [604, 1493]], 10: [0.397943247965, 0.397943247965, 0.4002, [712, 1493]], 11: [0.398485152675, 0.398485152675, 0.4002, [812, 1493]], 12: [0.399119420325, 0.399119420325, 0.4002, [1031, 1493]], 13: [0.397540622616, 0.397540622616, 0.4002, [1109, 1493]], 14: [0.398217364121, 0.398217364121, 0.4002, [1211, 1493]], 15: [0.398240764336, 0.398240764336, 0.4002, [1236, 1493]], 16: [0.398156717198, 0.398156717198, 0.4002, [1302, 1493]], 17: [0.398302558114, 0.398302558114, 0.4002, [1324, 1493]], 18: [0.398125147568, 0.398125147568, 0.4002, [1374, 1493]], 19: [0.39781606018, 0.39781606018, 0.4002, [1422, 1493]], 20: [0.397586595001, 0.397586595001, 0.4002, [1428, 1493]]}\n"
     ]
    }
   ],
   "source": [
    "print(shortest_paths)"
   ]
  },
  {
   "cell_type": "code",
   "execution_count": null,
   "id": "7e9adaed",
   "metadata": {},
   "outputs": [],
   "source": []
  }
 ],
 "metadata": {
  "kernelspec": {
   "display_name": "Python 3 (ipykernel)",
   "language": "python",
   "name": "python3"
  },
  "language_info": {
   "codemirror_mode": {
    "name": "ipython",
    "version": 3
   },
   "file_extension": ".py",
   "mimetype": "text/x-python",
   "name": "python",
   "nbconvert_exporter": "python",
   "pygments_lexer": "ipython3",
   "version": "3.10.8"
  }
 },
 "nbformat": 4,
 "nbformat_minor": 5
}
