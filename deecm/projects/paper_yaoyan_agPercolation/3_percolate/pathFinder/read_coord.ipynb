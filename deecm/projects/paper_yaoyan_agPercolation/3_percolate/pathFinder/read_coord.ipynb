{
 "cells": [
  {
   "cell_type": "code",
   "execution_count": 1,
   "id": "f8396cab",
   "metadata": {},
   "outputs": [],
   "source": [
    "import numpy as np\n",
    "import json\n",
    "import itertools\n",
    "import math\n",
    "import sys"
   ]
  },
  {
   "cell_type": "code",
   "execution_count": 2,
   "id": "227e1271",
   "metadata": {},
   "outputs": [],
   "source": [
    "input = 'size0'\n",
    "file = open(input,'r')\n",
    "Ag_lst = []\n",
    "lines = file.readlines()\n",
    "for line in lines:\n",
    "    line = line.rstrip()\n",
    "    particle_data = [float(x) for x in line.split()]\n",
    "    coord = particle_data[0:]\n",
    "    Ag_lst.append(coord)\n",
    "\n",
    "Ag_tmp1  = np.asarray(Ag_lst)\n",
    "Ag_tmp2  = Ag_tmp1[Ag_tmp1[:,0].argsort()]\n",
    "Ag_array = Ag_tmp2[:,2:]"
   ]
  },
  {
   "cell_type": "code",
   "execution_count": 3,
   "id": "0eee0488",
   "metadata": {},
   "outputs": [],
   "source": [
    "dlta = 0.0\n",
    "num_particle = Ag_array.shape[0]\n",
    "max_x = max(Ag_array[:, 0])\n",
    "max_y = max(Ag_array[:, 1])\n",
    "max_z = max(Ag_array[:, 2])\n",
    "max_coord = max(max_x, max_y, max_z)\n",
    "max_radius = max(Ag_array[:, 3])\n",
    "grid_size = 2.01 * max_radius\n",
    "grid_number = int(math.ceil(max_coord / grid_size))\n",
    "max_index = pow(grid_number, 3) - 1\n",
    "SYS_thk = max_z + max_radius"
   ]
  },
  {
   "cell_type": "code",
   "execution_count": 4,
   "id": "0dc1e2d5",
   "metadata": {},
   "outputs": [
    {
     "name": "stdout",
     "output_type": "stream",
     "text": [
      "1493\n",
      "19.601409478334\n",
      "19.601743789273\n",
      "9.595290804394\n",
      "19.601743789273\n",
      "0.4002\n",
      "9.995490804394\n"
     ]
    }
   ],
   "source": [
    "print(num_particle)\n",
    "print(max_x)\n",
    "print(max_y)\n",
    "print(max_z)\n",
    "print(max_coord)\n",
    "print(max_radius)\n",
    "print(SYS_thk)"
   ]
  },
  {
   "cell_type": "code",
   "execution_count": 9,
   "id": "2d4ee32a",
   "metadata": {},
   "outputs": [],
   "source": [
    "# Helper function\n",
    "def grid_index_lst(coord):\n",
    "    return [int(e / grid_size) for e in coord]\n",
    "\n",
    "def grid_index(lst):\n",
    "    \"\"\"\n",
    "    Converts a list of index to a 1D index\n",
    "    :param lst: 3D grid_box index.\n",
    "    :return: grid_box index\n",
    "    \"\"\"\n",
    "    return lst[0] + grid_number * lst[1] + grid_number * grid_number * lst[2]\n",
    "\n",
    "\n",
    "def neighbor_grid_index(lst):\n",
    "    neighbor_list = []\n",
    "    x_index = [lst[0] - 1, lst[0], lst[0] + 1]\n",
    "    y_index = [lst[1] - 1, lst[1], lst[1] + 1]\n",
    "    z_index = [lst[2] - 1, lst[2], lst[2] + 1]\n",
    "    x_index = [e for e in x_index if 0 <= e < grid_number]\n",
    "    y_index = [e for e in y_index if 0 <= e < grid_number]\n",
    "    z_index = [e for e in z_index if 0 <= e < grid_number]\n",
    "    index_lst = [x_index, y_index, z_index]\n",
    "    for comb in itertools.product(*index_lst):\n",
    "        neighbor_list.append(grid_index(comb))\n",
    "    return neighbor_list\n",
    "\n",
    "\n",
    "def distance(a, b):\n",
    "    return np.linalg.norm(a-b)\n",
    "\n",
    "\n",
    "def type_of_particle(i):\n",
    "    if i == num_particle:\n",
    "        return 'Target'\n",
    "    return 'Ag'"
   ]
  },
  {
   "cell_type": "code",
   "execution_count": 10,
   "id": "8f75c72f",
   "metadata": {},
   "outputs": [],
   "source": [
    "# Assign particles to grid boxes.\n",
    "index_map = {i: [] for i in range(max_index + 1)}\n",
    "for i in range(num_particle):\n",
    "    coord_i = Ag_array[i, :3]\n",
    "    index_i = grid_index(grid_index_lst(coord_i))\n",
    "    index_map[index_i].append(i)\n",
    "\n",
    "count = sum(len(e) for e in index_map.values())\n",
    "# Build adjacent lists.\n",
    "adj = {i: {} for i in range(num_particle + 1)}  # dummy node as target.\n",
    "vertical_dist = dict()\n",
    "particle_rads = dict()\n",
    "particle_type = dict()\n",
    "\n",
    "vertical_dist[num_particle] = 0  # For dummy node.\n",
    "particle_type[num_particle] = 'Target'\n",
    "particle_rads[num_particle] = 0."
   ]
  },
  {
   "cell_type": "code",
   "execution_count": 11,
   "id": "cbb21005",
   "metadata": {},
   "outputs": [],
   "source": [
    "mxGap = 0.\n",
    "for i in range(num_particle):\n",
    "    particle_type[i] = type_of_particle(i)\n",
    "    radius_i = Ag_array[i, 3]\n",
    "    coord_i = Ag_array[i, :3]\n",
    "    z_coord = Ag_array[i, 2]\n",
    "    vertical_dist[i] = z_coord\n",
    "    particle_rads[i] = radius_i\n",
    "    if z_coord <= radius_i+dlta:\n",
    "        adj[i][num_particle] = [z_coord, 0, 'Target']\n",
    "\n",
    "    grid_index_i = grid_index_lst(coord_i)\n",
    "    neighbor_box_i = neighbor_grid_index(grid_index_i)\n",
    "    for j in neighbor_box_i:\n",
    "        for k in index_map[j]:\n",
    "            if k == i:\n",
    "                continue\n",
    "            radius_k = Ag_array[k, 3]\n",
    "            coord_k = Ag_array[k, :3]\n",
    "            dist = distance(coord_i, coord_k)\n",
    "            overlap = dist - (radius_i + radius_k)\n",
    "            if overlap <= dlta:\n",
    "                adj[i][k] = [dist, overlap, type_of_particle(k)]\n",
    "                if overlap < mxGap:\n",
    "                   mxGap = overlap"
   ]
  },
  {
   "cell_type": "code",
   "execution_count": 12,
   "id": "8dbf58d5",
   "metadata": {},
   "outputs": [
    {
     "name": "stdout",
     "output_type": "stream",
     "text": [
      "{1493: 'Target', 0: 'Ag', 1: 'Ag', 2: 'Ag', 3: 'Ag', 4: 'Ag', 5: 'Ag', 6: 'Ag', 7: 'Ag', 8: 'Ag', 9: 'Ag', 10: 'Ag', 11: 'Ag', 12: 'Ag', 13: 'Ag', 14: 'Ag', 15: 'Ag', 16: 'Ag', 17: 'Ag', 18: 'Ag', 19: 'Ag', 20: 'Ag', 21: 'Ag', 22: 'Ag', 23: 'Ag', 24: 'Ag', 25: 'Ag', 26: 'Ag', 27: 'Ag', 28: 'Ag', 29: 'Ag', 30: 'Ag', 31: 'Ag', 32: 'Ag', 33: 'Ag', 34: 'Ag', 35: 'Ag', 36: 'Ag', 37: 'Ag', 38: 'Ag', 39: 'Ag', 40: 'Ag', 41: 'Ag', 42: 'Ag', 43: 'Ag', 44: 'Ag', 45: 'Ag', 46: 'Ag', 47: 'Ag', 48: 'Ag', 49: 'Ag', 50: 'Ag', 51: 'Ag', 52: 'Ag', 53: 'Ag', 54: 'Ag', 55: 'Ag', 56: 'Ag', 57: 'Ag', 58: 'Ag', 59: 'Ag', 60: 'Ag', 61: 'Ag', 62: 'Ag', 63: 'Ag', 64: 'Ag', 65: 'Ag', 66: 'Ag', 67: 'Ag', 68: 'Ag', 69: 'Ag', 70: 'Ag', 71: 'Ag', 72: 'Ag', 73: 'Ag', 74: 'Ag', 75: 'Ag', 76: 'Ag', 77: 'Ag', 78: 'Ag', 79: 'Ag', 80: 'Ag', 81: 'Ag', 82: 'Ag', 83: 'Ag', 84: 'Ag', 85: 'Ag', 86: 'Ag', 87: 'Ag', 88: 'Ag', 89: 'Ag', 90: 'Ag', 91: 'Ag', 92: 'Ag', 93: 'Ag', 94: 'Ag', 95: 'Ag', 96: 'Ag', 97: 'Ag', 98: 'Ag', 99: 'Ag', 100: 'Ag', 101: 'Ag', 102: 'Ag', 103: 'Ag', 104: 'Ag', 105: 'Ag', 106: 'Ag', 107: 'Ag', 108: 'Ag', 109: 'Ag', 110: 'Ag', 111: 'Ag', 112: 'Ag', 113: 'Ag', 114: 'Ag', 115: 'Ag', 116: 'Ag', 117: 'Ag', 118: 'Ag', 119: 'Ag', 120: 'Ag', 121: 'Ag', 122: 'Ag', 123: 'Ag', 124: 'Ag', 125: 'Ag', 126: 'Ag', 127: 'Ag', 128: 'Ag', 129: 'Ag', 130: 'Ag', 131: 'Ag', 132: 'Ag', 133: 'Ag', 134: 'Ag', 135: 'Ag', 136: 'Ag', 137: 'Ag', 138: 'Ag', 139: 'Ag', 140: 'Ag', 141: 'Ag', 142: 'Ag', 143: 'Ag', 144: 'Ag', 145: 'Ag', 146: 'Ag', 147: 'Ag', 148: 'Ag', 149: 'Ag', 150: 'Ag', 151: 'Ag', 152: 'Ag', 153: 'Ag', 154: 'Ag', 155: 'Ag', 156: 'Ag', 157: 'Ag', 158: 'Ag', 159: 'Ag', 160: 'Ag', 161: 'Ag', 162: 'Ag', 163: 'Ag', 164: 'Ag', 165: 'Ag', 166: 'Ag', 167: 'Ag', 168: 'Ag', 169: 'Ag', 170: 'Ag', 171: 'Ag', 172: 'Ag', 173: 'Ag', 174: 'Ag', 175: 'Ag', 176: 'Ag', 177: 'Ag', 178: 'Ag', 179: 'Ag', 180: 'Ag', 181: 'Ag', 182: 'Ag', 183: 'Ag', 184: 'Ag', 185: 'Ag', 186: 'Ag', 187: 'Ag', 188: 'Ag', 189: 'Ag', 190: 'Ag', 191: 'Ag', 192: 'Ag', 193: 'Ag', 194: 'Ag', 195: 'Ag', 196: 'Ag', 197: 'Ag', 198: 'Ag', 199: 'Ag', 200: 'Ag', 201: 'Ag', 202: 'Ag', 203: 'Ag', 204: 'Ag', 205: 'Ag', 206: 'Ag', 207: 'Ag', 208: 'Ag', 209: 'Ag', 210: 'Ag', 211: 'Ag', 212: 'Ag', 213: 'Ag', 214: 'Ag', 215: 'Ag', 216: 'Ag', 217: 'Ag', 218: 'Ag', 219: 'Ag', 220: 'Ag', 221: 'Ag', 222: 'Ag', 223: 'Ag', 224: 'Ag', 225: 'Ag', 226: 'Ag', 227: 'Ag', 228: 'Ag', 229: 'Ag', 230: 'Ag', 231: 'Ag', 232: 'Ag', 233: 'Ag', 234: 'Ag', 235: 'Ag', 236: 'Ag', 237: 'Ag', 238: 'Ag', 239: 'Ag', 240: 'Ag', 241: 'Ag', 242: 'Ag', 243: 'Ag', 244: 'Ag', 245: 'Ag', 246: 'Ag', 247: 'Ag', 248: 'Ag', 249: 'Ag', 250: 'Ag', 251: 'Ag', 252: 'Ag', 253: 'Ag', 254: 'Ag', 255: 'Ag', 256: 'Ag', 257: 'Ag', 258: 'Ag', 259: 'Ag', 260: 'Ag', 261: 'Ag', 262: 'Ag', 263: 'Ag', 264: 'Ag', 265: 'Ag', 266: 'Ag', 267: 'Ag', 268: 'Ag', 269: 'Ag', 270: 'Ag', 271: 'Ag', 272: 'Ag', 273: 'Ag', 274: 'Ag', 275: 'Ag', 276: 'Ag', 277: 'Ag', 278: 'Ag', 279: 'Ag', 280: 'Ag', 281: 'Ag', 282: 'Ag', 283: 'Ag', 284: 'Ag', 285: 'Ag', 286: 'Ag', 287: 'Ag', 288: 'Ag', 289: 'Ag', 290: 'Ag', 291: 'Ag', 292: 'Ag', 293: 'Ag', 294: 'Ag', 295: 'Ag', 296: 'Ag', 297: 'Ag', 298: 'Ag', 299: 'Ag', 300: 'Ag', 301: 'Ag', 302: 'Ag', 303: 'Ag', 304: 'Ag', 305: 'Ag', 306: 'Ag', 307: 'Ag', 308: 'Ag', 309: 'Ag', 310: 'Ag', 311: 'Ag', 312: 'Ag', 313: 'Ag', 314: 'Ag', 315: 'Ag', 316: 'Ag', 317: 'Ag', 318: 'Ag', 319: 'Ag', 320: 'Ag', 321: 'Ag', 322: 'Ag', 323: 'Ag', 324: 'Ag', 325: 'Ag', 326: 'Ag', 327: 'Ag', 328: 'Ag', 329: 'Ag', 330: 'Ag', 331: 'Ag', 332: 'Ag', 333: 'Ag', 334: 'Ag', 335: 'Ag', 336: 'Ag', 337: 'Ag', 338: 'Ag', 339: 'Ag', 340: 'Ag', 341: 'Ag', 342: 'Ag', 343: 'Ag', 344: 'Ag', 345: 'Ag', 346: 'Ag', 347: 'Ag', 348: 'Ag', 349: 'Ag', 350: 'Ag', 351: 'Ag', 352: 'Ag', 353: 'Ag', 354: 'Ag', 355: 'Ag', 356: 'Ag', 357: 'Ag', 358: 'Ag', 359: 'Ag', 360: 'Ag', 361: 'Ag', 362: 'Ag', 363: 'Ag', 364: 'Ag', 365: 'Ag', 366: 'Ag', 367: 'Ag', 368: 'Ag', 369: 'Ag', 370: 'Ag', 371: 'Ag', 372: 'Ag', 373: 'Ag', 374: 'Ag', 375: 'Ag', 376: 'Ag', 377: 'Ag', 378: 'Ag', 379: 'Ag', 380: 'Ag', 381: 'Ag', 382: 'Ag', 383: 'Ag', 384: 'Ag', 385: 'Ag', 386: 'Ag', 387: 'Ag', 388: 'Ag', 389: 'Ag', 390: 'Ag', 391: 'Ag', 392: 'Ag', 393: 'Ag', 394: 'Ag', 395: 'Ag', 396: 'Ag', 397: 'Ag', 398: 'Ag', 399: 'Ag', 400: 'Ag', 401: 'Ag', 402: 'Ag', 403: 'Ag', 404: 'Ag', 405: 'Ag', 406: 'Ag', 407: 'Ag', 408: 'Ag', 409: 'Ag', 410: 'Ag', 411: 'Ag', 412: 'Ag', 413: 'Ag', 414: 'Ag', 415: 'Ag', 416: 'Ag', 417: 'Ag', 418: 'Ag', 419: 'Ag', 420: 'Ag', 421: 'Ag', 422: 'Ag', 423: 'Ag', 424: 'Ag', 425: 'Ag', 426: 'Ag', 427: 'Ag', 428: 'Ag', 429: 'Ag', 430: 'Ag', 431: 'Ag', 432: 'Ag', 433: 'Ag', 434: 'Ag', 435: 'Ag', 436: 'Ag', 437: 'Ag', 438: 'Ag', 439: 'Ag', 440: 'Ag', 441: 'Ag', 442: 'Ag', 443: 'Ag', 444: 'Ag', 445: 'Ag', 446: 'Ag', 447: 'Ag', 448: 'Ag', 449: 'Ag', 450: 'Ag', 451: 'Ag', 452: 'Ag', 453: 'Ag', 454: 'Ag', 455: 'Ag', 456: 'Ag', 457: 'Ag', 458: 'Ag', 459: 'Ag', 460: 'Ag', 461: 'Ag', 462: 'Ag', 463: 'Ag', 464: 'Ag', 465: 'Ag', 466: 'Ag', 467: 'Ag', 468: 'Ag', 469: 'Ag', 470: 'Ag', 471: 'Ag', 472: 'Ag', 473: 'Ag', 474: 'Ag', 475: 'Ag', 476: 'Ag', 477: 'Ag', 478: 'Ag', 479: 'Ag', 480: 'Ag', 481: 'Ag', 482: 'Ag', 483: 'Ag', 484: 'Ag', 485: 'Ag', 486: 'Ag', 487: 'Ag', 488: 'Ag', 489: 'Ag', 490: 'Ag', 491: 'Ag', 492: 'Ag', 493: 'Ag', 494: 'Ag', 495: 'Ag', 496: 'Ag', 497: 'Ag', 498: 'Ag', 499: 'Ag', 500: 'Ag', 501: 'Ag', 502: 'Ag', 503: 'Ag', 504: 'Ag', 505: 'Ag', 506: 'Ag', 507: 'Ag', 508: 'Ag', 509: 'Ag', 510: 'Ag', 511: 'Ag', 512: 'Ag', 513: 'Ag', 514: 'Ag', 515: 'Ag', 516: 'Ag', 517: 'Ag', 518: 'Ag', 519: 'Ag', 520: 'Ag', 521: 'Ag', 522: 'Ag', 523: 'Ag', 524: 'Ag', 525: 'Ag', 526: 'Ag', 527: 'Ag', 528: 'Ag', 529: 'Ag', 530: 'Ag', 531: 'Ag', 532: 'Ag', 533: 'Ag', 534: 'Ag', 535: 'Ag', 536: 'Ag', 537: 'Ag', 538: 'Ag', 539: 'Ag', 540: 'Ag', 541: 'Ag', 542: 'Ag', 543: 'Ag', 544: 'Ag', 545: 'Ag', 546: 'Ag', 547: 'Ag', 548: 'Ag', 549: 'Ag', 550: 'Ag', 551: 'Ag', 552: 'Ag', 553: 'Ag', 554: 'Ag', 555: 'Ag', 556: 'Ag', 557: 'Ag', 558: 'Ag', 559: 'Ag', 560: 'Ag', 561: 'Ag', 562: 'Ag', 563: 'Ag', 564: 'Ag', 565: 'Ag', 566: 'Ag', 567: 'Ag', 568: 'Ag', 569: 'Ag', 570: 'Ag', 571: 'Ag', 572: 'Ag', 573: 'Ag', 574: 'Ag', 575: 'Ag', 576: 'Ag', 577: 'Ag', 578: 'Ag', 579: 'Ag', 580: 'Ag', 581: 'Ag', 582: 'Ag', 583: 'Ag', 584: 'Ag', 585: 'Ag', 586: 'Ag', 587: 'Ag', 588: 'Ag', 589: 'Ag', 590: 'Ag', 591: 'Ag', 592: 'Ag', 593: 'Ag', 594: 'Ag', 595: 'Ag', 596: 'Ag', 597: 'Ag', 598: 'Ag', 599: 'Ag', 600: 'Ag', 601: 'Ag', 602: 'Ag', 603: 'Ag', 604: 'Ag', 605: 'Ag', 606: 'Ag', 607: 'Ag', 608: 'Ag', 609: 'Ag', 610: 'Ag', 611: 'Ag', 612: 'Ag', 613: 'Ag', 614: 'Ag', 615: 'Ag', 616: 'Ag', 617: 'Ag', 618: 'Ag', 619: 'Ag', 620: 'Ag', 621: 'Ag', 622: 'Ag', 623: 'Ag', 624: 'Ag', 625: 'Ag', 626: 'Ag', 627: 'Ag', 628: 'Ag', 629: 'Ag', 630: 'Ag', 631: 'Ag', 632: 'Ag', 633: 'Ag', 634: 'Ag', 635: 'Ag', 636: 'Ag', 637: 'Ag', 638: 'Ag', 639: 'Ag', 640: 'Ag', 641: 'Ag', 642: 'Ag', 643: 'Ag', 644: 'Ag', 645: 'Ag', 646: 'Ag', 647: 'Ag', 648: 'Ag', 649: 'Ag', 650: 'Ag', 651: 'Ag', 652: 'Ag', 653: 'Ag', 654: 'Ag', 655: 'Ag', 656: 'Ag', 657: 'Ag', 658: 'Ag', 659: 'Ag', 660: 'Ag', 661: 'Ag', 662: 'Ag', 663: 'Ag', 664: 'Ag', 665: 'Ag', 666: 'Ag', 667: 'Ag', 668: 'Ag', 669: 'Ag', 670: 'Ag', 671: 'Ag', 672: 'Ag', 673: 'Ag', 674: 'Ag', 675: 'Ag', 676: 'Ag', 677: 'Ag', 678: 'Ag', 679: 'Ag', 680: 'Ag', 681: 'Ag', 682: 'Ag', 683: 'Ag', 684: 'Ag', 685: 'Ag', 686: 'Ag', 687: 'Ag', 688: 'Ag', 689: 'Ag', 690: 'Ag', 691: 'Ag', 692: 'Ag', 693: 'Ag', 694: 'Ag', 695: 'Ag', 696: 'Ag', 697: 'Ag', 698: 'Ag', 699: 'Ag', 700: 'Ag', 701: 'Ag', 702: 'Ag', 703: 'Ag', 704: 'Ag', 705: 'Ag', 706: 'Ag', 707: 'Ag', 708: 'Ag', 709: 'Ag', 710: 'Ag', 711: 'Ag', 712: 'Ag', 713: 'Ag', 714: 'Ag', 715: 'Ag', 716: 'Ag', 717: 'Ag', 718: 'Ag', 719: 'Ag', 720: 'Ag', 721: 'Ag', 722: 'Ag', 723: 'Ag', 724: 'Ag', 725: 'Ag', 726: 'Ag', 727: 'Ag', 728: 'Ag', 729: 'Ag', 730: 'Ag', 731: 'Ag', 732: 'Ag', 733: 'Ag', 734: 'Ag', 735: 'Ag', 736: 'Ag', 737: 'Ag', 738: 'Ag', 739: 'Ag', 740: 'Ag', 741: 'Ag', 742: 'Ag', 743: 'Ag', 744: 'Ag', 745: 'Ag', 746: 'Ag', 747: 'Ag', 748: 'Ag', 749: 'Ag', 750: 'Ag', 751: 'Ag', 752: 'Ag', 753: 'Ag', 754: 'Ag', 755: 'Ag', 756: 'Ag', 757: 'Ag', 758: 'Ag', 759: 'Ag', 760: 'Ag', 761: 'Ag', 762: 'Ag', 763: 'Ag', 764: 'Ag', 765: 'Ag', 766: 'Ag', 767: 'Ag', 768: 'Ag', 769: 'Ag', 770: 'Ag', 771: 'Ag', 772: 'Ag', 773: 'Ag', 774: 'Ag', 775: 'Ag', 776: 'Ag', 777: 'Ag', 778: 'Ag', 779: 'Ag', 780: 'Ag', 781: 'Ag', 782: 'Ag', 783: 'Ag', 784: 'Ag', 785: 'Ag', 786: 'Ag', 787: 'Ag', 788: 'Ag', 789: 'Ag', 790: 'Ag', 791: 'Ag', 792: 'Ag', 793: 'Ag', 794: 'Ag', 795: 'Ag', 796: 'Ag', 797: 'Ag', 798: 'Ag', 799: 'Ag', 800: 'Ag', 801: 'Ag', 802: 'Ag', 803: 'Ag', 804: 'Ag', 805: 'Ag', 806: 'Ag', 807: 'Ag', 808: 'Ag', 809: 'Ag', 810: 'Ag', 811: 'Ag', 812: 'Ag', 813: 'Ag', 814: 'Ag', 815: 'Ag', 816: 'Ag', 817: 'Ag', 818: 'Ag', 819: 'Ag', 820: 'Ag', 821: 'Ag', 822: 'Ag', 823: 'Ag', 824: 'Ag', 825: 'Ag', 826: 'Ag', 827: 'Ag', 828: 'Ag', 829: 'Ag', 830: 'Ag', 831: 'Ag', 832: 'Ag', 833: 'Ag', 834: 'Ag', 835: 'Ag', 836: 'Ag', 837: 'Ag', 838: 'Ag', 839: 'Ag', 840: 'Ag', 841: 'Ag', 842: 'Ag', 843: 'Ag', 844: 'Ag', 845: 'Ag', 846: 'Ag', 847: 'Ag', 848: 'Ag', 849: 'Ag', 850: 'Ag', 851: 'Ag', 852: 'Ag', 853: 'Ag', 854: 'Ag', 855: 'Ag', 856: 'Ag', 857: 'Ag', 858: 'Ag', 859: 'Ag', 860: 'Ag', 861: 'Ag', 862: 'Ag', 863: 'Ag', 864: 'Ag', 865: 'Ag', 866: 'Ag', 867: 'Ag', 868: 'Ag', 869: 'Ag', 870: 'Ag', 871: 'Ag', 872: 'Ag', 873: 'Ag', 874: 'Ag', 875: 'Ag', 876: 'Ag', 877: 'Ag', 878: 'Ag', 879: 'Ag', 880: 'Ag', 881: 'Ag', 882: 'Ag', 883: 'Ag', 884: 'Ag', 885: 'Ag', 886: 'Ag', 887: 'Ag', 888: 'Ag', 889: 'Ag', 890: 'Ag', 891: 'Ag', 892: 'Ag', 893: 'Ag', 894: 'Ag', 895: 'Ag', 896: 'Ag', 897: 'Ag', 898: 'Ag', 899: 'Ag', 900: 'Ag', 901: 'Ag', 902: 'Ag', 903: 'Ag', 904: 'Ag', 905: 'Ag', 906: 'Ag', 907: 'Ag', 908: 'Ag', 909: 'Ag', 910: 'Ag', 911: 'Ag', 912: 'Ag', 913: 'Ag', 914: 'Ag', 915: 'Ag', 916: 'Ag', 917: 'Ag', 918: 'Ag', 919: 'Ag', 920: 'Ag', 921: 'Ag', 922: 'Ag', 923: 'Ag', 924: 'Ag', 925: 'Ag', 926: 'Ag', 927: 'Ag', 928: 'Ag', 929: 'Ag', 930: 'Ag', 931: 'Ag', 932: 'Ag', 933: 'Ag', 934: 'Ag', 935: 'Ag', 936: 'Ag', 937: 'Ag', 938: 'Ag', 939: 'Ag', 940: 'Ag', 941: 'Ag', 942: 'Ag', 943: 'Ag', 944: 'Ag', 945: 'Ag', 946: 'Ag', 947: 'Ag', 948: 'Ag', 949: 'Ag', 950: 'Ag', 951: 'Ag', 952: 'Ag', 953: 'Ag', 954: 'Ag', 955: 'Ag', 956: 'Ag', 957: 'Ag', 958: 'Ag', 959: 'Ag', 960: 'Ag', 961: 'Ag', 962: 'Ag', 963: 'Ag', 964: 'Ag', 965: 'Ag', 966: 'Ag', 967: 'Ag', 968: 'Ag', 969: 'Ag', 970: 'Ag', 971: 'Ag', 972: 'Ag', 973: 'Ag', 974: 'Ag', 975: 'Ag', 976: 'Ag', 977: 'Ag', 978: 'Ag', 979: 'Ag', 980: 'Ag', 981: 'Ag', 982: 'Ag', 983: 'Ag', 984: 'Ag', 985: 'Ag', 986: 'Ag', 987: 'Ag', 988: 'Ag', 989: 'Ag', 990: 'Ag', 991: 'Ag', 992: 'Ag', 993: 'Ag', 994: 'Ag', 995: 'Ag', 996: 'Ag', 997: 'Ag', 998: 'Ag', 999: 'Ag', 1000: 'Ag', 1001: 'Ag', 1002: 'Ag', 1003: 'Ag', 1004: 'Ag', 1005: 'Ag', 1006: 'Ag', 1007: 'Ag', 1008: 'Ag', 1009: 'Ag', 1010: 'Ag', 1011: 'Ag', 1012: 'Ag', 1013: 'Ag', 1014: 'Ag', 1015: 'Ag', 1016: 'Ag', 1017: 'Ag', 1018: 'Ag', 1019: 'Ag', 1020: 'Ag', 1021: 'Ag', 1022: 'Ag', 1023: 'Ag', 1024: 'Ag', 1025: 'Ag', 1026: 'Ag', 1027: 'Ag', 1028: 'Ag', 1029: 'Ag', 1030: 'Ag', 1031: 'Ag', 1032: 'Ag', 1033: 'Ag', 1034: 'Ag', 1035: 'Ag', 1036: 'Ag', 1037: 'Ag', 1038: 'Ag', 1039: 'Ag', 1040: 'Ag', 1041: 'Ag', 1042: 'Ag', 1043: 'Ag', 1044: 'Ag', 1045: 'Ag', 1046: 'Ag', 1047: 'Ag', 1048: 'Ag', 1049: 'Ag', 1050: 'Ag', 1051: 'Ag', 1052: 'Ag', 1053: 'Ag', 1054: 'Ag', 1055: 'Ag', 1056: 'Ag', 1057: 'Ag', 1058: 'Ag', 1059: 'Ag', 1060: 'Ag', 1061: 'Ag', 1062: 'Ag', 1063: 'Ag', 1064: 'Ag', 1065: 'Ag', 1066: 'Ag', 1067: 'Ag', 1068: 'Ag', 1069: 'Ag', 1070: 'Ag', 1071: 'Ag', 1072: 'Ag', 1073: 'Ag', 1074: 'Ag', 1075: 'Ag', 1076: 'Ag', 1077: 'Ag', 1078: 'Ag', 1079: 'Ag', 1080: 'Ag', 1081: 'Ag', 1082: 'Ag', 1083: 'Ag', 1084: 'Ag', 1085: 'Ag', 1086: 'Ag', 1087: 'Ag', 1088: 'Ag', 1089: 'Ag', 1090: 'Ag', 1091: 'Ag', 1092: 'Ag', 1093: 'Ag', 1094: 'Ag', 1095: 'Ag', 1096: 'Ag', 1097: 'Ag', 1098: 'Ag', 1099: 'Ag', 1100: 'Ag', 1101: 'Ag', 1102: 'Ag', 1103: 'Ag', 1104: 'Ag', 1105: 'Ag', 1106: 'Ag', 1107: 'Ag', 1108: 'Ag', 1109: 'Ag', 1110: 'Ag', 1111: 'Ag', 1112: 'Ag', 1113: 'Ag', 1114: 'Ag', 1115: 'Ag', 1116: 'Ag', 1117: 'Ag', 1118: 'Ag', 1119: 'Ag', 1120: 'Ag', 1121: 'Ag', 1122: 'Ag', 1123: 'Ag', 1124: 'Ag', 1125: 'Ag', 1126: 'Ag', 1127: 'Ag', 1128: 'Ag', 1129: 'Ag', 1130: 'Ag', 1131: 'Ag', 1132: 'Ag', 1133: 'Ag', 1134: 'Ag', 1135: 'Ag', 1136: 'Ag', 1137: 'Ag', 1138: 'Ag', 1139: 'Ag', 1140: 'Ag', 1141: 'Ag', 1142: 'Ag', 1143: 'Ag', 1144: 'Ag', 1145: 'Ag', 1146: 'Ag', 1147: 'Ag', 1148: 'Ag', 1149: 'Ag', 1150: 'Ag', 1151: 'Ag', 1152: 'Ag', 1153: 'Ag', 1154: 'Ag', 1155: 'Ag', 1156: 'Ag', 1157: 'Ag', 1158: 'Ag', 1159: 'Ag', 1160: 'Ag', 1161: 'Ag', 1162: 'Ag', 1163: 'Ag', 1164: 'Ag', 1165: 'Ag', 1166: 'Ag', 1167: 'Ag', 1168: 'Ag', 1169: 'Ag', 1170: 'Ag', 1171: 'Ag', 1172: 'Ag', 1173: 'Ag', 1174: 'Ag', 1175: 'Ag', 1176: 'Ag', 1177: 'Ag', 1178: 'Ag', 1179: 'Ag', 1180: 'Ag', 1181: 'Ag', 1182: 'Ag', 1183: 'Ag', 1184: 'Ag', 1185: 'Ag', 1186: 'Ag', 1187: 'Ag', 1188: 'Ag', 1189: 'Ag', 1190: 'Ag', 1191: 'Ag', 1192: 'Ag', 1193: 'Ag', 1194: 'Ag', 1195: 'Ag', 1196: 'Ag', 1197: 'Ag', 1198: 'Ag', 1199: 'Ag', 1200: 'Ag', 1201: 'Ag', 1202: 'Ag', 1203: 'Ag', 1204: 'Ag', 1205: 'Ag', 1206: 'Ag', 1207: 'Ag', 1208: 'Ag', 1209: 'Ag', 1210: 'Ag', 1211: 'Ag', 1212: 'Ag', 1213: 'Ag', 1214: 'Ag', 1215: 'Ag', 1216: 'Ag', 1217: 'Ag', 1218: 'Ag', 1219: 'Ag', 1220: 'Ag', 1221: 'Ag', 1222: 'Ag', 1223: 'Ag', 1224: 'Ag', 1225: 'Ag', 1226: 'Ag', 1227: 'Ag', 1228: 'Ag', 1229: 'Ag', 1230: 'Ag', 1231: 'Ag', 1232: 'Ag', 1233: 'Ag', 1234: 'Ag', 1235: 'Ag', 1236: 'Ag', 1237: 'Ag', 1238: 'Ag', 1239: 'Ag', 1240: 'Ag', 1241: 'Ag', 1242: 'Ag', 1243: 'Ag', 1244: 'Ag', 1245: 'Ag', 1246: 'Ag', 1247: 'Ag', 1248: 'Ag', 1249: 'Ag', 1250: 'Ag', 1251: 'Ag', 1252: 'Ag', 1253: 'Ag', 1254: 'Ag', 1255: 'Ag', 1256: 'Ag', 1257: 'Ag', 1258: 'Ag', 1259: 'Ag', 1260: 'Ag', 1261: 'Ag', 1262: 'Ag', 1263: 'Ag', 1264: 'Ag', 1265: 'Ag', 1266: 'Ag', 1267: 'Ag', 1268: 'Ag', 1269: 'Ag', 1270: 'Ag', 1271: 'Ag', 1272: 'Ag', 1273: 'Ag', 1274: 'Ag', 1275: 'Ag', 1276: 'Ag', 1277: 'Ag', 1278: 'Ag', 1279: 'Ag', 1280: 'Ag', 1281: 'Ag', 1282: 'Ag', 1283: 'Ag', 1284: 'Ag', 1285: 'Ag', 1286: 'Ag', 1287: 'Ag', 1288: 'Ag', 1289: 'Ag', 1290: 'Ag', 1291: 'Ag', 1292: 'Ag', 1293: 'Ag', 1294: 'Ag', 1295: 'Ag', 1296: 'Ag', 1297: 'Ag', 1298: 'Ag', 1299: 'Ag', 1300: 'Ag', 1301: 'Ag', 1302: 'Ag', 1303: 'Ag', 1304: 'Ag', 1305: 'Ag', 1306: 'Ag', 1307: 'Ag', 1308: 'Ag', 1309: 'Ag', 1310: 'Ag', 1311: 'Ag', 1312: 'Ag', 1313: 'Ag', 1314: 'Ag', 1315: 'Ag', 1316: 'Ag', 1317: 'Ag', 1318: 'Ag', 1319: 'Ag', 1320: 'Ag', 1321: 'Ag', 1322: 'Ag', 1323: 'Ag', 1324: 'Ag', 1325: 'Ag', 1326: 'Ag', 1327: 'Ag', 1328: 'Ag', 1329: 'Ag', 1330: 'Ag', 1331: 'Ag', 1332: 'Ag', 1333: 'Ag', 1334: 'Ag', 1335: 'Ag', 1336: 'Ag', 1337: 'Ag', 1338: 'Ag', 1339: 'Ag', 1340: 'Ag', 1341: 'Ag', 1342: 'Ag', 1343: 'Ag', 1344: 'Ag', 1345: 'Ag', 1346: 'Ag', 1347: 'Ag', 1348: 'Ag', 1349: 'Ag', 1350: 'Ag', 1351: 'Ag', 1352: 'Ag', 1353: 'Ag', 1354: 'Ag', 1355: 'Ag', 1356: 'Ag', 1357: 'Ag', 1358: 'Ag', 1359: 'Ag', 1360: 'Ag', 1361: 'Ag', 1362: 'Ag', 1363: 'Ag', 1364: 'Ag', 1365: 'Ag', 1366: 'Ag', 1367: 'Ag', 1368: 'Ag', 1369: 'Ag', 1370: 'Ag', 1371: 'Ag', 1372: 'Ag', 1373: 'Ag', 1374: 'Ag', 1375: 'Ag', 1376: 'Ag', 1377: 'Ag', 1378: 'Ag', 1379: 'Ag', 1380: 'Ag', 1381: 'Ag', 1382: 'Ag', 1383: 'Ag', 1384: 'Ag', 1385: 'Ag', 1386: 'Ag', 1387: 'Ag', 1388: 'Ag', 1389: 'Ag', 1390: 'Ag', 1391: 'Ag', 1392: 'Ag', 1393: 'Ag', 1394: 'Ag', 1395: 'Ag', 1396: 'Ag', 1397: 'Ag', 1398: 'Ag', 1399: 'Ag', 1400: 'Ag', 1401: 'Ag', 1402: 'Ag', 1403: 'Ag', 1404: 'Ag', 1405: 'Ag', 1406: 'Ag', 1407: 'Ag', 1408: 'Ag', 1409: 'Ag', 1410: 'Ag', 1411: 'Ag', 1412: 'Ag', 1413: 'Ag', 1414: 'Ag', 1415: 'Ag', 1416: 'Ag', 1417: 'Ag', 1418: 'Ag', 1419: 'Ag', 1420: 'Ag', 1421: 'Ag', 1422: 'Ag', 1423: 'Ag', 1424: 'Ag', 1425: 'Ag', 1426: 'Ag', 1427: 'Ag', 1428: 'Ag', 1429: 'Ag', 1430: 'Ag', 1431: 'Ag', 1432: 'Ag', 1433: 'Ag', 1434: 'Ag', 1435: 'Ag', 1436: 'Ag', 1437: 'Ag', 1438: 'Ag', 1439: 'Ag', 1440: 'Ag', 1441: 'Ag', 1442: 'Ag', 1443: 'Ag', 1444: 'Ag', 1445: 'Ag', 1446: 'Ag', 1447: 'Ag', 1448: 'Ag', 1449: 'Ag', 1450: 'Ag', 1451: 'Ag', 1452: 'Ag', 1453: 'Ag', 1454: 'Ag', 1455: 'Ag', 1456: 'Ag', 1457: 'Ag', 1458: 'Ag', 1459: 'Ag', 1460: 'Ag', 1461: 'Ag', 1462: 'Ag', 1463: 'Ag', 1464: 'Ag', 1465: 'Ag', 1466: 'Ag', 1467: 'Ag', 1468: 'Ag', 1469: 'Ag', 1470: 'Ag', 1471: 'Ag', 1472: 'Ag', 1473: 'Ag', 1474: 'Ag', 1475: 'Ag', 1476: 'Ag', 1477: 'Ag', 1478: 'Ag', 1479: 'Ag', 1480: 'Ag', 1481: 'Ag', 1482: 'Ag', 1483: 'Ag', 1484: 'Ag', 1485: 'Ag', 1486: 'Ag', 1487: 'Ag', 1488: 'Ag', 1489: 'Ag', 1490: 'Ag', 1491: 'Ag', 1492: 'Ag'}\n"
     ]
    }
   ],
   "source": [
    "print(particle_type)"
   ]
  },
  {
   "cell_type": "code",
   "execution_count": null,
   "id": "58c93a30",
   "metadata": {},
   "outputs": [],
   "source": []
  },
  {
   "cell_type": "code",
   "execution_count": null,
   "id": "67c00da8",
   "metadata": {},
   "outputs": [],
   "source": []
  }
 ],
 "metadata": {
  "kernelspec": {
   "display_name": "Python 3 (ipykernel)",
   "language": "python",
   "name": "python3"
  },
  "language_info": {
   "codemirror_mode": {
    "name": "ipython",
    "version": 3
   },
   "file_extension": ".py",
   "mimetype": "text/x-python",
   "name": "python",
   "nbconvert_exporter": "python",
   "pygments_lexer": "ipython3",
   "version": "3.10.8"
  }
 },
 "nbformat": 4,
 "nbformat_minor": 5
}
