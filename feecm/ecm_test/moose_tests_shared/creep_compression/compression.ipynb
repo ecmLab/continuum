{
 "cells": [
  {
   "cell_type": "code",
   "execution_count": 70,
   "metadata": {},
   "outputs": [],
   "source": [
    "import pandas as pd\n",
    "import numpy as np\n",
    "import matplotlib.pyplot as plt\n",
    "import os"
   ]
  },
  {
   "cell_type": "code",
   "execution_count": 71,
   "metadata": {},
   "outputs": [],
   "source": [
    "df = pd.read_csv('tension_out.csv')"
   ]
  },
  {
   "cell_type": "code",
   "execution_count": 72,
   "metadata": {},
   "outputs": [
    {
     "data": {
      "text/html": [
       "<div>\n",
       "<style scoped>\n",
       "    .dataframe tbody tr th:only-of-type {\n",
       "        vertical-align: middle;\n",
       "    }\n",
       "\n",
       "    .dataframe tbody tr th {\n",
       "        vertical-align: top;\n",
       "    }\n",
       "\n",
       "    .dataframe thead th {\n",
       "        text-align: right;\n",
       "    }\n",
       "</style>\n",
       "<table border=\"1\" class=\"dataframe\">\n",
       "  <thead>\n",
       "    <tr style=\"text-align: right;\">\n",
       "      <th></th>\n",
       "      <th>time</th>\n",
       "      <th>eff_strain</th>\n",
       "      <th>matl_ts_min</th>\n",
       "      <th>peeq</th>\n",
       "      <th>strain_yy</th>\n",
       "      <th>stress_yy</th>\n",
       "      <th>u_y</th>\n",
       "      <th>von_mises</th>\n",
       "    </tr>\n",
       "  </thead>\n",
       "  <tbody>\n",
       "    <tr>\n",
       "      <th>0</th>\n",
       "      <td>0.0000</td>\n",
       "      <td>0.000000</td>\n",
       "      <td>0.00000</td>\n",
       "      <td>0.000000e+00</td>\n",
       "      <td>0.000000</td>\n",
       "      <td>0.000000</td>\n",
       "      <td>0.000000e+00</td>\n",
       "      <td>0.000000</td>\n",
       "    </tr>\n",
       "    <tr>\n",
       "      <th>1</th>\n",
       "      <td>0.0100</td>\n",
       "      <td>0.000012</td>\n",
       "      <td>0.01500</td>\n",
       "      <td>5.374421e-11</td>\n",
       "      <td>-0.000009</td>\n",
       "      <td>-108299.292195</td>\n",
       "      <td>-1.550000e-07</td>\n",
       "      <td>73567.035422</td>\n",
       "    </tr>\n",
       "    <tr>\n",
       "      <th>2</th>\n",
       "      <td>0.0200</td>\n",
       "      <td>0.000024</td>\n",
       "      <td>0.01500</td>\n",
       "      <td>5.500758e-09</td>\n",
       "      <td>-0.000017</td>\n",
       "      <td>-216555.311058</td>\n",
       "      <td>-3.100000e-07</td>\n",
       "      <td>147092.935749</td>\n",
       "    </tr>\n",
       "    <tr>\n",
       "      <th>3</th>\n",
       "      <td>0.0350</td>\n",
       "      <td>0.000041</td>\n",
       "      <td>0.02250</td>\n",
       "      <td>3.261939e-07</td>\n",
       "      <td>-0.000030</td>\n",
       "      <td>-376240.281720</td>\n",
       "      <td>-5.425000e-07</td>\n",
       "      <td>255023.379035</td>\n",
       "    </tr>\n",
       "    <tr>\n",
       "      <th>4</th>\n",
       "      <td>0.0575</td>\n",
       "      <td>0.000068</td>\n",
       "      <td>0.03375</td>\n",
       "      <td>7.060640e-06</td>\n",
       "      <td>-0.000047</td>\n",
       "      <td>-562680.146196</td>\n",
       "      <td>-8.912500e-07</td>\n",
       "      <td>378012.490883</td>\n",
       "    </tr>\n",
       "  </tbody>\n",
       "</table>\n",
       "</div>"
      ],
      "text/plain": [
       "     time  eff_strain  matl_ts_min          peeq  strain_yy      stress_yy  \\\n",
       "0  0.0000    0.000000      0.00000  0.000000e+00   0.000000       0.000000   \n",
       "1  0.0100    0.000012      0.01500  5.374421e-11  -0.000009 -108299.292195   \n",
       "2  0.0200    0.000024      0.01500  5.500758e-09  -0.000017 -216555.311058   \n",
       "3  0.0350    0.000041      0.02250  3.261939e-07  -0.000030 -376240.281720   \n",
       "4  0.0575    0.000068      0.03375  7.060640e-06  -0.000047 -562680.146196   \n",
       "\n",
       "            u_y      von_mises  \n",
       "0  0.000000e+00       0.000000  \n",
       "1 -1.550000e-07   73567.035422  \n",
       "2 -3.100000e-07  147092.935749  \n",
       "3 -5.425000e-07  255023.379035  \n",
       "4 -8.912500e-07  378012.490883  "
      ]
     },
     "execution_count": 72,
     "metadata": {},
     "output_type": "execute_result"
    }
   ],
   "source": [
    "df.head()"
   ]
  },
  {
   "cell_type": "code",
   "execution_count": 73,
   "metadata": {},
   "outputs": [
    {
     "data": {
      "text/plain": [
       "[<matplotlib.lines.Line2D at 0x7f1c9b5e6b70>]"
      ]
     },
     "execution_count": 73,
     "metadata": {},
     "output_type": "execute_result"
    },
    {
     "data": {
      "image/png": "[encoded data removed]",
      "text/plain": [
       "<Figure size 432x288 with 1 Axes>"
      ]
     },
     "metadata": {
      "needs_background": "light"
     },
     "output_type": "display_data"
    }
   ],
   "source": [
    "plt.plot(-df['strain_yy'], -df['stress_yy']/1e6)"
   ]
  },
  {
   "cell_type": "code",
   "execution_count": null,
   "metadata": {},
   "outputs": [],
   "source": []
  }
 ],
 "metadata": {
  "kernelspec": {
   "display_name": "Python 3",
   "language": "python",
   "name": "python3"
  },
  "language_info": {
   "codemirror_mode": {
    "name": "ipython",
    "version": 3
   },
   "file_extension": ".py",
   "mimetype": "text/x-python",
   "name": "python",
   "nbconvert_exporter": "python",
   "pygments_lexer": "ipython3",
   "version": "3.5.2"
  }
 },
 "nbformat": 4,
 "nbformat_minor": 2
}
