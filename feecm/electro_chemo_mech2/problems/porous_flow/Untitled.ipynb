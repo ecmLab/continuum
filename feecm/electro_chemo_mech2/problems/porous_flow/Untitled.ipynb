{
 "cells": [
  {
   "cell_type": "markdown",
   "metadata": {},
   "source": [
    "# Code to plot viscosity of Molten Lithium"
   ]
  },
  {
   "cell_type": "markdown",
   "metadata": {},
   "source": [
    "## eqn is log10(\\eta) = 0.4936 - 0.7368 log10T + 109.95/T"
   ]
  },
  {
   "cell_type": "code",
   "execution_count": 1,
   "metadata": {},
   "outputs": [],
   "source": [
    "from matplotlib import pyplot as plt\n",
    "import numpy as np \n",
    "import math"
   ]
  },
  {
   "cell_type": "code",
   "execution_count": null,
   "metadata": {},
   "outputs": [],
   "source": []
  },
  {
   "cell_type": "code",
   "execution_count": 2,
   "metadata": {},
   "outputs": [],
   "source": [
    "T = np.arange(25.0, 190.0, 1.0)\n",
    "Tk = T + 273.0"
   ]
  },
  {
   "cell_type": "code",
   "execution_count": 21,
   "metadata": {},
   "outputs": [],
   "source": [
    "logvisc = 0.4936 - 0.73687* np.log10(Tk) + 1690.95*np.reciprocal(Tk)\n",
    "visc = np.array(10**logvisc)"
   ]
  },
  {
   "cell_type": "code",
   "execution_count": 22,
   "metadata": {},
   "outputs": [
    {
     "data": {
      "text/plain": [
       "[<matplotlib.lines.Line2D at 0x7fa608666d00>]"
      ]
     },
     "execution_count": 22,
     "metadata": {},
     "output_type": "execute_result"
    },
    {
     "data": {
      "image/png": "[encoded data removed]",
      "text/plain": [
       "<Figure size 432x288 with 1 Axes>"
      ]
     },
     "metadata": {
      "needs_background": "light"
     },
     "output_type": "display_data"
    }
   ],
   "source": [
    "plt.plot(T, visc)"
   ]
  },
  {
   "cell_type": "code",
   "execution_count": 23,
   "metadata": {},
   "outputs": [
    {
     "data": {
      "text/plain": [
       "array([22118.37009217, 21120.45850233, 20173.61187308, 19274.92925681,\n",
       "       18421.68998503, 17611.34154528, 16841.4883327 , 16109.88120918,\n",
       "       15414.40780814, 14753.0835283 , 14124.04316414, 13525.5331251 ,\n",
       "       12955.90419935, 12413.60482143, 11897.17480645, 11405.23951617,\n",
       "       10936.50442542, 10489.75005933, 10063.8272745 ,  9657.65285917,\n",
       "        9270.20542922,  8900.52159901,  8547.69240714,  8210.85997923,\n",
       "        7889.2144108 ,  7581.99085479,  7288.46679933,  7007.95952261,\n",
       "        6739.82371231,  6483.44923847,  6238.25906904,  6003.70731846,\n",
       "        5779.2774201 ,  5564.48041425,  5358.85334374,  5161.95775011,\n",
       "        4973.37826338,  4792.72127937,  4619.61371869,  4453.70186198,\n",
       "        4294.65025643,  4142.14068886,  3995.87122109,  3855.55528353,\n",
       "        3720.92082318,  3591.70950262,  3467.67594666,  3348.58703369,\n",
       "        3234.22122875,  3124.36795592,  3018.82700723,  2917.40798616,\n",
       "        2819.92978325,  2726.22008212,  2636.11489371,  2549.45811729,\n",
       "        2466.10112642,  2385.90237841,  2308.72704579,  2234.44666855,\n",
       "        2162.93882581,  2094.08682581,  2027.77941309,  1963.91049189,\n",
       "        1902.37886469,  1843.08798515,  1785.94572451,  1730.86415068,\n",
       "        1677.75931925,  1626.55107583,  1577.16286891,  1529.52157279,\n",
       "        1483.55731989,  1439.20334197,  1396.39581968,  1355.07374009,\n",
       "        1315.17876162,  1276.65508603,  1239.44933704,  1203.51044525,\n",
       "        1168.78953895,  1135.23984059,  1102.81656844,  1071.47684335,\n",
       "        1041.17960019,  1011.88550374,   983.55686883,   956.1575845 ,\n",
       "         929.65304188,   904.01006573,   879.19684927,   855.18289234,\n",
       "         831.93894247,   809.43693893,   787.64995944,   766.55216951,\n",
       "         746.11877421,   726.32597222,   707.15091218,   688.57165102,\n",
       "         670.56711434,   653.11705865,   636.20203537,   619.80335658,\n",
       "         603.90306229,   588.48388933,   573.52924161,   559.02316181,\n",
       "         544.95030435,   531.29590962,   518.04577934,   505.18625316,\n",
       "         492.70418616,   480.58692752,   468.82230009,   457.39858084,\n",
       "         446.30448225,   435.5291345 ,   425.06206849,   414.89319951,\n",
       "         405.01281178,   395.41154353,   386.08037283,   377.01060401,\n",
       "         368.19385462,   359.62204306,   351.28737664,   343.18234024,\n",
       "         335.29968536,   327.63241975,   320.17379739,   312.91730895,\n",
       "         305.85667264,   298.9858254 ,   292.29891454,   285.79028969,\n",
       "         279.45449506,   273.28626208,   267.28050225,   261.43230045,\n",
       "         255.73690832,   250.18973806,   244.78635647,   239.52247912,\n",
       "         234.3939649 ,   229.39681072,   224.52714639,   219.78122979,\n",
       "         215.15544217,   210.64628366,   206.25036895,   201.96442315,\n",
       "         197.7852778 ,   193.70986708,   189.73522408,   185.85847734,\n",
       "         182.07684738,   178.38764351,   174.78826063,   171.27617629,\n",
       "         167.84894772,   164.50420909,   161.23966881,   158.05310697,\n",
       "         154.94237281])"
      ]
     },
     "execution_count": 23,
     "metadata": {},
     "output_type": "execute_result"
    }
   ],
   "source": [
    "visc"
   ]
  },
  {
   "cell_type": "code",
   "execution_count": null,
   "metadata": {},
   "outputs": [],
   "source": []
  }
 ],
 "metadata": {
  "kernelspec": {
   "display_name": "Python 3",
   "language": "python",
   "name": "python3"
  },
  "language_info": {
   "codemirror_mode": {
    "name": "ipython",
    "version": 3
   },
   "file_extension": ".py",
   "mimetype": "text/x-python",
   "name": "python",
   "nbconvert_exporter": "python",
   "pygments_lexer": "ipython3",
   "version": "3.8.10"
  }
 },
 "nbformat": 4,
 "nbformat_minor": 4
}
